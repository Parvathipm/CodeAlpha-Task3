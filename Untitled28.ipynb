{
  "nbformat": 4,
  "nbformat_minor": 0,
  "metadata": {
    "colab": {
      "provenance": []
    },
    "kernelspec": {
      "name": "python3",
      "display_name": "Python 3"
    },
    "language_info": {
      "name": "python"
    }
  },
  "cells": [
    {
      "cell_type": "markdown",
      "source": [
        "# A/B TESTING ANALYSIS"
      ],
      "metadata": {
        "id": "3jA5CZ8OOwsy"
      }
    },
    {
      "cell_type": "markdown",
      "source": [
        "# OBJECTIVE\n",
        "The aim of this task is to determine which version of an advertisement (Ad A or Ad B) performs better in terms of user engagement and revenue generation. Specifically, the objective is to compare the Click-Through Rate (CTR) and Earnings per Click (EPC) between the two ad versions to assess which one is more effective at attracting clicks and generating revenue per click. This analysis helps in making data-driven decisions about which ad version to use for maximizing overall campaign performance."
      ],
      "metadata": {
        "id": "bJrzvd4cOzld"
      }
    },
    {
      "cell_type": "code",
      "execution_count": 12,
      "metadata": {
        "colab": {
          "base_uri": "https://localhost:8080/",
          "height": 0
        },
        "id": "m9Q4Sf_3Jg1e",
        "outputId": "564b580d-244e-448a-9652-e3e0c05abb22"
      },
      "outputs": [
        {
          "output_type": "stream",
          "name": "stdout",
          "text": [
            "   Unnamed: 0     Impression        Click    Purchase      Earning\n",
            "0           0   82529.459271  6090.077317  665.211255  2311.277143\n",
            "1           1   98050.451926  3382.861786  315.084895  1742.806855\n",
            "2           2   82696.023549  4167.965750  458.083738  1797.827447\n",
            "3           3  109914.400398  4910.882240  487.090773  1696.229178\n",
            "4           4  108457.762630  5987.655811  441.034050  1543.720179\n"
          ]
        }
      ],
      "source": [
        "import pandas as pd\n",
        "# Load the dataset\n",
        "df = pd.read_csv('/content/ab_testing_control.csv')\n",
        "\n",
        "# Display the first few rows\n",
        "print(df.head())\n"
      ]
    },
    {
      "cell_type": "code",
      "source": [
        "# Display the first few rows to understand the structure\n",
        "print(df.head())\n",
        "\n",
        "# Check for missing values\n",
        "print(df.isnull().sum())\n",
        "\n",
        "# You might want to drop rows with missing data\n",
        "df = df.dropna()\n",
        "\n",
        "# Verify that the data has been cleaned\n",
        "print(df.isnull().sum())"
      ],
      "metadata": {
        "colab": {
          "base_uri": "https://localhost:8080/",
          "height": 0
        },
        "id": "v2304U7CJvdw",
        "outputId": "63f93adb-38b1-493a-9ba5-be2831c7dd12"
      },
      "execution_count": 13,
      "outputs": [
        {
          "output_type": "stream",
          "name": "stdout",
          "text": [
            "   Unnamed: 0     Impression        Click    Purchase      Earning\n",
            "0           0   82529.459271  6090.077317  665.211255  2311.277143\n",
            "1           1   98050.451926  3382.861786  315.084895  1742.806855\n",
            "2           2   82696.023549  4167.965750  458.083738  1797.827447\n",
            "3           3  109914.400398  4910.882240  487.090773  1696.229178\n",
            "4           4  108457.762630  5987.655811  441.034050  1543.720179\n",
            "Unnamed: 0    0\n",
            "Impression    0\n",
            "Click         0\n",
            "Purchase      0\n",
            "Earning       0\n",
            "dtype: int64\n",
            "Unnamed: 0    0\n",
            "Impression    0\n",
            "Click         0\n",
            "Purchase      0\n",
            "Earning       0\n",
            "dtype: int64\n"
          ]
        }
      ]
    },
    {
      "cell_type": "code",
      "source": [
        "print(df.columns)\n"
      ],
      "metadata": {
        "colab": {
          "base_uri": "https://localhost:8080/",
          "height": 0
        },
        "id": "A9LqT_DILvWj",
        "outputId": "112f7d9a-bfc1-438b-d92f-1bd6fa07b062"
      },
      "execution_count": 14,
      "outputs": [
        {
          "output_type": "stream",
          "name": "stdout",
          "text": [
            "Index(['Unnamed: 0', 'Impression', 'Click', 'Purchase', 'Earning'], dtype='object')\n"
          ]
        }
      ]
    },
    {
      "cell_type": "code",
      "source": [
        "df.columns = df.columns.str.strip()\n"
      ],
      "metadata": {
        "id": "hp68ectILzUx"
      },
      "execution_count": 15,
      "outputs": []
    },
    {
      "cell_type": "code",
      "source": [
        "print(df.head())\n"
      ],
      "metadata": {
        "colab": {
          "base_uri": "https://localhost:8080/",
          "height": 0
        },
        "id": "1WV_-VKhL1mt",
        "outputId": "33e79ba0-6dda-4b43-a73d-0f8ee8f7367c"
      },
      "execution_count": 16,
      "outputs": [
        {
          "output_type": "stream",
          "name": "stdout",
          "text": [
            "   Unnamed: 0     Impression        Click    Purchase      Earning\n",
            "0           0   82529.459271  6090.077317  665.211255  2311.277143\n",
            "1           1   98050.451926  3382.861786  315.084895  1742.806855\n",
            "2           2   82696.023549  4167.965750  458.083738  1797.827447\n",
            "3           3  109914.400398  4910.882240  487.090773  1696.229178\n",
            "4           4  108457.762630  5987.655811  441.034050  1543.720179\n"
          ]
        }
      ]
    },
    {
      "cell_type": "code",
      "source": [
        "# You might want to use a more meaningful criterion based on your actual scenario\n",
        "split_index = len(df) // 2\n",
        "group_a = df.iloc[:split_index]\n",
        "group_b = df.iloc[split_index:]\n"
      ],
      "metadata": {
        "id": "cAukU3iINEik"
      },
      "execution_count": 17,
      "outputs": []
    },
    {
      "cell_type": "code",
      "source": [
        "# Calculate Click-Through Rate (CTR) and Earnings per Click (EPC)\n",
        "group_a['CTR'] = group_a['Click'] / group_a['Impression']\n",
        "group_a['EPC'] = group_a['Earning'] / group_a['Click']"
      ],
      "metadata": {
        "colab": {
          "base_uri": "https://localhost:8080/",
          "height": 0
        },
        "id": "DoyjDUWUNKsQ",
        "outputId": "0efc1f1f-9882-47e0-e8cf-5f882824c2e0"
      },
      "execution_count": 18,
      "outputs": [
        {
          "output_type": "stream",
          "name": "stderr",
          "text": [
            "<ipython-input-18-51a7ba33efd4>:2: SettingWithCopyWarning: \n",
            "A value is trying to be set on a copy of a slice from a DataFrame.\n",
            "Try using .loc[row_indexer,col_indexer] = value instead\n",
            "\n",
            "See the caveats in the documentation: https://pandas.pydata.org/pandas-docs/stable/user_guide/indexing.html#returning-a-view-versus-a-copy\n",
            "  group_a['CTR'] = group_a['Click'] / group_a['Impression']\n",
            "<ipython-input-18-51a7ba33efd4>:3: SettingWithCopyWarning: \n",
            "A value is trying to be set on a copy of a slice from a DataFrame.\n",
            "Try using .loc[row_indexer,col_indexer] = value instead\n",
            "\n",
            "See the caveats in the documentation: https://pandas.pydata.org/pandas-docs/stable/user_guide/indexing.html#returning-a-view-versus-a-copy\n",
            "  group_a['EPC'] = group_a['Earning'] / group_a['Click']\n"
          ]
        }
      ]
    },
    {
      "cell_type": "code",
      "source": [
        "group_b['CTR'] = group_b['Click'] / group_b['Impression']\n",
        "group_b['EPC'] = group_b['Earning'] / group_b['Click']"
      ],
      "metadata": {
        "colab": {
          "base_uri": "https://localhost:8080/",
          "height": 0
        },
        "id": "R8rC162ONKv1",
        "outputId": "6f0d75e2-62a4-4a60-de30-8679a39227e4"
      },
      "execution_count": 19,
      "outputs": [
        {
          "output_type": "stream",
          "name": "stderr",
          "text": [
            "<ipython-input-19-bb0798415d76>:1: SettingWithCopyWarning: \n",
            "A value is trying to be set on a copy of a slice from a DataFrame.\n",
            "Try using .loc[row_indexer,col_indexer] = value instead\n",
            "\n",
            "See the caveats in the documentation: https://pandas.pydata.org/pandas-docs/stable/user_guide/indexing.html#returning-a-view-versus-a-copy\n",
            "  group_b['CTR'] = group_b['Click'] / group_b['Impression']\n",
            "<ipython-input-19-bb0798415d76>:2: SettingWithCopyWarning: \n",
            "A value is trying to be set on a copy of a slice from a DataFrame.\n",
            "Try using .loc[row_indexer,col_indexer] = value instead\n",
            "\n",
            "See the caveats in the documentation: https://pandas.pydata.org/pandas-docs/stable/user_guide/indexing.html#returning-a-view-versus-a-copy\n",
            "  group_b['EPC'] = group_b['Earning'] / group_b['Click']\n"
          ]
        }
      ]
    },
    {
      "cell_type": "code",
      "source": [
        "from scipy import stats\n",
        "# Perform t-tests to compare the means of CTR and EPC between the two groups\n",
        "ctr_ttest = stats.ttest_ind(group_a['CTR'].dropna(), group_b['CTR'].dropna())\n",
        "epc_ttest = stats.ttest_ind(group_a['EPC'].dropna(), group_b['EPC'].dropna())"
      ],
      "metadata": {
        "id": "q71oJZkANOJX"
      },
      "execution_count": 21,
      "outputs": []
    },
    {
      "cell_type": "code",
      "source": [
        "print(\"CTR t-test result:\", ctr_ttest)\n",
        "print(\"EPC t-test result:\", epc_ttest)"
      ],
      "metadata": {
        "colab": {
          "base_uri": "https://localhost:8080/",
          "height": 0
        },
        "id": "fOCd__HrNOM6",
        "outputId": "287f2b4f-ac03-462f-f7e0-baf8ddbd7d7f"
      },
      "execution_count": 22,
      "outputs": [
        {
          "output_type": "stream",
          "name": "stdout",
          "text": [
            "CTR t-test result: TtestResult(statistic=1.2273520826105135, pvalue=0.22723974339450542, df=38.0)\n",
            "EPC t-test result: TtestResult(statistic=-1.309907079224009, pvalue=0.198091199730466, df=38.0)\n"
          ]
        }
      ]
    },
    {
      "cell_type": "markdown",
      "source": [
        "# CONCLUSIONS AND INSIGHTS\n",
        "\n",
        "\n",
        "*  No Significant Difference in CTR: The p-value of 0.227 for the Click-Through Rate (CTR) indicates that there is no statistically significant difference between the two groups in terms of how many clicks the ads attract. Both ads perform similarly in attracting clicks.\n",
        "\n",
        "* No Significant Difference in EPC: The p-value of 0.198 for Earnings per Click (EPC) shows there is no statistically significant difference between the two groups in terms of revenue generated per click. Both ads generate similar revenue per click.\n",
        "\n",
        "* Effectiveness of Ads: Since neither CTR nor EPC shows a significant difference, both ads are performing similarly in terms of user engagement and revenue generation.\n",
        "\n",
        "* Reevaluate Metrics: Given the lack of significant results, consider evaluating additional metrics or testing different variations of ads to better understand performance differences.\n",
        "\n",
        "\n",
        "\n",
        "\n",
        "\n",
        "\n",
        "\n",
        "\n"
      ],
      "metadata": {
        "id": "RcULX33gNg1Q"
      }
    }
  ]
}